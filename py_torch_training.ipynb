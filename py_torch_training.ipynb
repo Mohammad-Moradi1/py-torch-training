{
  "nbformat": 4,
  "nbformat_minor": 0,
  "metadata": {
    "colab": {
      "provenance": [],
      "authorship_tag": "ABX9TyOJWpR2xe+m4d3SFle12cz0",
      "include_colab_link": true
    },
    "kernelspec": {
      "name": "python3",
      "display_name": "Python 3"
    },
    "language_info": {
      "name": "python"
    }
  },
  "cells": [
    {
      "cell_type": "markdown",
      "metadata": {
        "id": "view-in-github",
        "colab_type": "text"
      },
      "source": [
        "<a href=\"https://colab.research.google.com/github/Mohammad-Moradi1/py-torch-training/blob/main/py_torch_training.ipynb\" target=\"_parent\"><img src=\"https://colab.research.google.com/assets/colab-badge.svg\" alt=\"Open In Colab\"/></a>"
      ]
    },
    {
      "cell_type": "code",
      "execution_count": 1,
      "metadata": {
        "colab": {
          "base_uri": "https://localhost:8080/"
        },
        "id": "1DJBaJ6Ef_W3",
        "outputId": "9c691223-6d23-4a1d-ea52-0d1d68b50f46"
      },
      "outputs": [
        {
          "output_type": "stream",
          "name": "stdout",
          "text": [
            "Requirement already satisfied: torch in /usr/local/lib/python3.10/dist-packages (2.5.1+cu121)\n",
            "Requirement already satisfied: torchvision in /usr/local/lib/python3.10/dist-packages (0.20.1+cu121)\n",
            "Requirement already satisfied: filelock in /usr/local/lib/python3.10/dist-packages (from torch) (3.16.1)\n",
            "Requirement already satisfied: typing-extensions>=4.8.0 in /usr/local/lib/python3.10/dist-packages (from torch) (4.12.2)\n",
            "Requirement already satisfied: networkx in /usr/local/lib/python3.10/dist-packages (from torch) (3.4.2)\n",
            "Requirement already satisfied: jinja2 in /usr/local/lib/python3.10/dist-packages (from torch) (3.1.4)\n",
            "Requirement already satisfied: fsspec in /usr/local/lib/python3.10/dist-packages (from torch) (2024.10.0)\n",
            "Requirement already satisfied: sympy==1.13.1 in /usr/local/lib/python3.10/dist-packages (from torch) (1.13.1)\n",
            "Requirement already satisfied: mpmath<1.4,>=1.1.0 in /usr/local/lib/python3.10/dist-packages (from sympy==1.13.1->torch) (1.3.0)\n",
            "Requirement already satisfied: numpy in /usr/local/lib/python3.10/dist-packages (from torchvision) (1.26.4)\n",
            "Requirement already satisfied: pillow!=8.3.*,>=5.3.0 in /usr/local/lib/python3.10/dist-packages (from torchvision) (11.0.0)\n",
            "Requirement already satisfied: MarkupSafe>=2.0 in /usr/local/lib/python3.10/dist-packages (from jinja2->torch) (3.0.2)\n"
          ]
        }
      ],
      "source": [
        "!pip install torch torchvision"
      ]
    },
    {
      "cell_type": "markdown",
      "source": [
        "# کار با تنسورها (Tensors)"
      ],
      "metadata": {
        "id": "yQ9mv_uXSi7W"
      }
    },
    {
      "cell_type": "code",
      "source": [
        "import torch\n",
        "\n",
        "x = torch.tensor([1.0 , 2.0 , 3.0])\n",
        "print(x)\n",
        "print(type(x))"
      ],
      "metadata": {
        "colab": {
          "base_uri": "https://localhost:8080/"
        },
        "id": "t_ayLACEP09L",
        "outputId": "52984fe7-1830-4f55-b67f-fd4115683943"
      },
      "execution_count": 3,
      "outputs": [
        {
          "output_type": "stream",
          "name": "stdout",
          "text": [
            "tensor([1., 2., 3.])\n",
            "<class 'torch.Tensor'>\n"
          ]
        }
      ]
    },
    {
      "cell_type": "code",
      "source": [
        "random_tensor = torch.rand(4 , 4)\n",
        "print(random_tensor)"
      ],
      "metadata": {
        "colab": {
          "base_uri": "https://localhost:8080/"
        },
        "id": "HfJ8RwFqQKoC",
        "outputId": "6e8ab1e0-5a4e-4ce8-a534-77bf78024dcc"
      },
      "execution_count": 5,
      "outputs": [
        {
          "output_type": "stream",
          "name": "stdout",
          "text": [
            "tensor([[0.4440, 0.4862, 0.2802, 0.2592],\n",
            "        [0.2070, 0.1646, 0.8847, 0.9165],\n",
            "        [0.2950, 0.1793, 0.2634, 0.2296],\n",
            "        [0.3117, 0.0608, 0.8096, 0.1955]])\n"
          ]
        }
      ]
    },
    {
      "cell_type": "code",
      "source": [
        "zeros_tensor = torch.zeros(3 , 3)\n",
        "ones_tensor = torch.ones(3,3)\n",
        "\n",
        "print(zeros_tensor)\n",
        "print(ones_tensor)"
      ],
      "metadata": {
        "colab": {
          "base_uri": "https://localhost:8080/"
        },
        "id": "AbMb-BdNQmWB",
        "outputId": "32614812-18ca-4e9c-9455-7c9e606ee910"
      },
      "execution_count": 6,
      "outputs": [
        {
          "output_type": "stream",
          "name": "stdout",
          "text": [
            "tensor([[0., 0., 0.],\n",
            "        [0., 0., 0.],\n",
            "        [0., 0., 0.]])\n",
            "tensor([[1., 1., 1.],\n",
            "        [1., 1., 1.],\n",
            "        [1., 1., 1.]])\n"
          ]
        }
      ]
    },
    {
      "cell_type": "code",
      "source": [
        "line_space = torch.linspace(0,1,steps = 5)\n",
        "print(line_space)"
      ],
      "metadata": {
        "colab": {
          "base_uri": "https://localhost:8080/"
        },
        "id": "3qZuNRT7RCZK",
        "outputId": "c25b3d14-a917-4a60-a7d4-4f30b52f7a9f"
      },
      "execution_count": 8,
      "outputs": [
        {
          "output_type": "stream",
          "name": "stdout",
          "text": [
            "tensor([0.0000, 0.2500, 0.5000, 0.7500, 1.0000])\n"
          ]
        }
      ]
    },
    {
      "cell_type": "code",
      "source": [
        "a = torch.tensor([1.0, 2.0, 3.0])\n",
        "b = torch.tensor([4.0, 5.0, 6.0])\n",
        "\n",
        "print(a + b)\n",
        "print(a * b)\n",
        "\n",
        "# ماتریس ضرب\n",
        "mat1 = torch.rand(2, 3)\n",
        "mat2 = torch.rand(3, 2)\n",
        "result = torch.matmul(mat1, mat2)  # ضرب ماتریسی\n",
        "print(result)\n",
        "\n",
        "# عملیات‌های پیشرفته\n",
        "mean = a.mean()\n",
        "std = a.std()\n",
        "print(mean)\n",
        "print(std)"
      ],
      "metadata": {
        "colab": {
          "base_uri": "https://localhost:8080/"
        },
        "id": "n5ZyIt-oRX9R",
        "outputId": "22fffd4a-e1cf-474a-d455-44782ce35351"
      },
      "execution_count": 13,
      "outputs": [
        {
          "output_type": "stream",
          "name": "stdout",
          "text": [
            "tensor([5., 7., 9.])\n",
            "tensor([ 4., 10., 18.])\n",
            "tensor([[0.4708, 0.2827],\n",
            "        [0.7786, 0.2456]])\n",
            "tensor(2.)\n",
            "tensor(1.)\n"
          ]
        }
      ]
    },
    {
      "cell_type": "markdown",
      "source": [
        "#استفاده از *GPU*"
      ],
      "metadata": {
        "id": "UXDg6OpoSWiO"
      }
    },
    {
      "cell_type": "code",
      "source": [
        "# بررسی دسترسی GPU\n",
        "device = torch.device(\"cuda\" if torch.cuda.is_available() else \"cpu\")\n",
        "print(f\"Using device: {device}\")"
      ],
      "metadata": {
        "colab": {
          "base_uri": "https://localhost:8080/"
        },
        "id": "ayp0DgKeSNRX",
        "outputId": "2f6e59ef-a52f-4e6d-8b07-661f2925eca5"
      },
      "execution_count": 14,
      "outputs": [
        {
          "output_type": "stream",
          "name": "stdout",
          "text": [
            "Using device: cpu\n"
          ]
        }
      ]
    },
    {
      "cell_type": "code",
      "source": [
        "# انتقال تنسور به GPU\n",
        "a_tensor = torch.rand(3, 3)\n",
        "tensor_gpu = a_tensor.to(device)\n",
        "print(tensor_gpu)"
      ],
      "metadata": {
        "colab": {
          "base_uri": "https://localhost:8080/"
        },
        "id": "E9M_gPasSm02",
        "outputId": "10d51e9d-3f91-46f2-8438-049ae6f3725d"
      },
      "execution_count": 16,
      "outputs": [
        {
          "output_type": "stream",
          "name": "stdout",
          "text": [
            "tensor([[5.0008e-01, 9.6132e-01, 4.0790e-01],\n",
            "        [2.4758e-01, 3.1745e-04, 8.1258e-01],\n",
            "        [1.4393e-01, 7.5865e-01, 9.0755e-01]])\n"
          ]
        }
      ]
    },
    {
      "cell_type": "markdown",
      "source": [
        "#  Autograd: محاسبه گرادیان‌ها"
      ],
      "metadata": {
        "id": "QIc5pzjkdPB-"
      }
    },
    {
      "cell_type": "code",
      "source": [
        "# ایجاد یک تنسور با قابلیت گرادیان\n",
        "x = torch.tensor(2.0, requires_grad=True)\n",
        "y = x ** 2 + 3 * x + 4  # تابع\n",
        "y.backward()  # محاسبه گرادیان\n",
        "print(x.grad)  # گرادیان: dy/dx"
      ],
      "metadata": {
        "colab": {
          "base_uri": "https://localhost:8080/"
        },
        "id": "vmarzI6ndN8B",
        "outputId": "85728f8b-e957-465d-cd8f-ab9bf86dc4d5"
      },
      "execution_count": 21,
      "outputs": [
        {
          "output_type": "stream",
          "name": "stdout",
          "text": [
            "tensor(7.)\n"
          ]
        }
      ]
    },
    {
      "cell_type": "markdown",
      "source": [
        "# ساخت یک مدل ساده شبکه عصبی"
      ],
      "metadata": {
        "id": "aY5tGRbEgpbR"
      }
    },
    {
      "cell_type": "code",
      "source": [
        "#ایجاد یک مدل ساده\n",
        "import torch.nn as nn\n",
        "\n",
        "# تعریف یک شبکه ساده\n",
        "class SimpleNN(nn.Module):\n",
        "    def __init__(self):\n",
        "        super(SimpleNN, self).__init__()\n",
        "        self.fc = nn.Linear(1, 1)  # لایه کاملاً متصل\n",
        "\n",
        "    def forward(self, x):\n",
        "        return self.fc(x)\n",
        "\n",
        "# نمونه‌سازی مدل\n",
        "model = SimpleNN()\n",
        "print(model)"
      ],
      "metadata": {
        "colab": {
          "base_uri": "https://localhost:8080/"
        },
        "id": "lSipsQKUgn1D",
        "outputId": "57ec7b25-3efa-41a4-e6ca-94cb5a8b1dbf"
      },
      "execution_count": 26,
      "outputs": [
        {
          "output_type": "stream",
          "name": "stdout",
          "text": [
            "SimpleNN(\n",
            "  (fc): Linear(in_features=1, out_features=1, bias=True)\n",
            ")\n"
          ]
        }
      ]
    },
    {
      "cell_type": "code",
      "source": [
        "#تابع هزینه و بهینه‌سازی\n",
        "\n",
        "import torch.optim as optim\n",
        "\n",
        "# تعریف تابع هزینه و بهینه‌ساز\n",
        "criterion = nn.MSELoss()  # Mean Squared Error\n",
        "optimizer = optim.SGD(model.parameters(), lr=0.01)"
      ],
      "metadata": {
        "id": "aUbYDzGzm8bZ"
      },
      "execution_count": 27,
      "outputs": []
    },
    {
      "cell_type": "code",
      "source": [
        "# آموزش مدل\n",
        "\n",
        "# داده‌های آموزشی ساده\n",
        "x_train = torch.tensor([[1.0], [2.0], [3.0]])\n",
        "y_train = torch.tensor([[2.0], [4.0], [6.0]])\n",
        "\n",
        "# حلقه آموزشی\n",
        "for epoch in range(100):\n",
        "    # مرحله پیش‌بینی\n",
        "    y_pred = model(x_train)\n",
        "\n",
        "    # محاسبه هزینه\n",
        "    loss = criterion(y_pred, y_train)\n",
        "\n",
        "    # به‌روزرسانی مدل\n",
        "    optimizer.zero_grad()  # صفر کردن گرادیان‌ها\n",
        "    loss.backward()  # محاسبه گرادیان\n",
        "    optimizer.step()  # به‌روزرسانی وزن‌ها\n",
        "\n",
        "    if epoch % 10 == 0:\n",
        "        print(f\"Epoch {epoch}, Loss: {loss.item()}\")"
      ],
      "metadata": {
        "colab": {
          "base_uri": "https://localhost:8080/"
        },
        "id": "rWD6HHhznity",
        "outputId": "3cc879d9-adeb-41d0-e5e0-2f8e7c00e56c"
      },
      "execution_count": 32,
      "outputs": [
        {
          "output_type": "stream",
          "name": "stdout",
          "text": [
            "Epoch 0, Loss: 0.09513166546821594\n",
            "Epoch 10, Loss: 0.09066084772348404\n",
            "Epoch 20, Loss: 0.0864000990986824\n",
            "Epoch 30, Loss: 0.0823395773768425\n",
            "Epoch 40, Loss: 0.0784699097275734\n",
            "Epoch 50, Loss: 0.07478218525648117\n",
            "Epoch 60, Loss: 0.07126769423484802\n",
            "Epoch 70, Loss: 0.06791842728853226\n",
            "Epoch 80, Loss: 0.06472652405500412\n",
            "Epoch 90, Loss: 0.06168454885482788\n"
          ]
        }
      ]
    },
    {
      "cell_type": "markdown",
      "source": [
        "# ذخیره و بارگذاری مدل"
      ],
      "metadata": {
        "id": "jnSRPtKPp5es"
      }
    },
    {
      "cell_type": "code",
      "source": [
        "torch.save(model.state_dict() , \"simple_nn.path\")"
      ],
      "metadata": {
        "id": "LLYblID3p47l"
      },
      "execution_count": 33,
      "outputs": []
    },
    {
      "cell_type": "code",
      "source": [
        "model = SimpleNN()\n",
        "model.load_state_dict(torch.load(\"simple_nn.pth\"))\n",
        "model.eval()  # تغییر مدل به حالت ارزیابی"
      ],
      "metadata": {
        "colab": {
          "base_uri": "https://localhost:8080/"
        },
        "id": "ntHIa4nZqT8R",
        "outputId": "119a7f83-64c7-4306-87a7-3dd1a5f1d0ef"
      },
      "execution_count": 34,
      "outputs": [
        {
          "output_type": "stream",
          "name": "stderr",
          "text": [
            "<ipython-input-34-6f41352d23e4>:2: FutureWarning: You are using `torch.load` with `weights_only=False` (the current default value), which uses the default pickle module implicitly. It is possible to construct malicious pickle data which will execute arbitrary code during unpickling (See https://github.com/pytorch/pytorch/blob/main/SECURITY.md#untrusted-models for more details). In a future release, the default value for `weights_only` will be flipped to `True`. This limits the functions that could be executed during unpickling. Arbitrary objects will no longer be allowed to be loaded via this mode unless they are explicitly allowlisted by the user via `torch.serialization.add_safe_globals`. We recommend you start setting `weights_only=True` for any use case where you don't have full control of the loaded file. Please open an issue on GitHub for any issues related to this experimental feature.\n",
            "  model.load_state_dict(torch.load(\"simple_nn.path\"))\n"
          ]
        },
        {
          "output_type": "execute_result",
          "data": {
            "text/plain": [
              "SimpleNN(\n",
              "  (fc): Linear(in_features=1, out_features=1, bias=True)\n",
              ")"
            ]
          },
          "metadata": {},
          "execution_count": 34
        }
      ]
    }
  ]
}