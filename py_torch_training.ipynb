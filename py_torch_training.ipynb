{
  "nbformat": 4,
  "nbformat_minor": 0,
  "metadata": {
    "colab": {
      "provenance": [],
      "authorship_tag": "ABX9TyOqvCmfAwAZ0/U4kutrNnc2",
      "include_colab_link": true
    },
    "kernelspec": {
      "name": "python3",
      "display_name": "Python 3"
    },
    "language_info": {
      "name": "python"
    }
  },
  "cells": [
    {
      "cell_type": "markdown",
      "metadata": {
        "id": "view-in-github",
        "colab_type": "text"
      },
      "source": [
        "<a href=\"https://colab.research.google.com/github/Mohammad-Moradi1/py-torch-training/blob/main/py_torch_training.ipynb\" target=\"_parent\"><img src=\"https://colab.research.google.com/assets/colab-badge.svg\" alt=\"Open In Colab\"/></a>"
      ]
    },
    {
      "cell_type": "code",
      "execution_count": 2,
      "metadata": {
        "colab": {
          "base_uri": "https://localhost:8080/"
        },
        "id": "1DJBaJ6Ef_W3",
        "outputId": "da6bfacc-d321-4776-a59e-226541fa9402"
      },
      "outputs": [
        {
          "output_type": "stream",
          "name": "stdout",
          "text": [
            "Requirement already satisfied: torch in /usr/local/lib/python3.10/dist-packages (2.5.1+cu121)\n",
            "Requirement already satisfied: torchvision in /usr/local/lib/python3.10/dist-packages (0.20.1+cu121)\n",
            "Requirement already satisfied: filelock in /usr/local/lib/python3.10/dist-packages (from torch) (3.16.1)\n",
            "Requirement already satisfied: typing-extensions>=4.8.0 in /usr/local/lib/python3.10/dist-packages (from torch) (4.12.2)\n",
            "Requirement already satisfied: networkx in /usr/local/lib/python3.10/dist-packages (from torch) (3.4.2)\n",
            "Requirement already satisfied: jinja2 in /usr/local/lib/python3.10/dist-packages (from torch) (3.1.4)\n",
            "Requirement already satisfied: fsspec in /usr/local/lib/python3.10/dist-packages (from torch) (2024.10.0)\n",
            "Requirement already satisfied: sympy==1.13.1 in /usr/local/lib/python3.10/dist-packages (from torch) (1.13.1)\n",
            "Requirement already satisfied: mpmath<1.4,>=1.1.0 in /usr/local/lib/python3.10/dist-packages (from sympy==1.13.1->torch) (1.3.0)\n",
            "Requirement already satisfied: numpy in /usr/local/lib/python3.10/dist-packages (from torchvision) (1.26.4)\n",
            "Requirement already satisfied: pillow!=8.3.*,>=5.3.0 in /usr/local/lib/python3.10/dist-packages (from torchvision) (11.0.0)\n",
            "Requirement already satisfied: MarkupSafe>=2.0 in /usr/local/lib/python3.10/dist-packages (from jinja2->torch) (3.0.2)\n"
          ]
        }
      ],
      "source": [
        "!pip install torch torchvision"
      ]
    },
    {
      "cell_type": "markdown",
      "source": [
        "# کار با تنسورها (Tensors)"
      ],
      "metadata": {
        "id": "yQ9mv_uXSi7W"
      }
    },
    {
      "cell_type": "code",
      "source": [
        "import torch\n",
        "\n",
        "x = torch.tensor([1.0 , 2.0 , 3.0])\n",
        "print(x)\n",
        "print(type(x))"
      ],
      "metadata": {
        "colab": {
          "base_uri": "https://localhost:8080/"
        },
        "id": "t_ayLACEP09L",
        "outputId": "88b833ec-dbae-4121-9184-e32eca79c7b5"
      },
      "execution_count": 3,
      "outputs": [
        {
          "output_type": "stream",
          "name": "stdout",
          "text": [
            "tensor([1., 2., 3.])\n",
            "<class 'torch.Tensor'>\n"
          ]
        }
      ]
    },
    {
      "cell_type": "code",
      "source": [
        "random_tensor = torch.rand(4 , 4)\n",
        "print(random_tensor)"
      ],
      "metadata": {
        "colab": {
          "base_uri": "https://localhost:8080/"
        },
        "id": "HfJ8RwFqQKoC",
        "outputId": "8842afaa-2e8a-4ab0-ceec-45e3cd270b88"
      },
      "execution_count": 4,
      "outputs": [
        {
          "output_type": "stream",
          "name": "stdout",
          "text": [
            "tensor([[0.3952, 0.3273, 0.9671, 0.6146],\n",
            "        [0.8896, 0.9818, 0.1164, 0.3402],\n",
            "        [0.8139, 0.9244, 0.4854, 0.4808],\n",
            "        [0.5849, 0.6935, 0.0423, 0.2206]])\n"
          ]
        }
      ]
    },
    {
      "cell_type": "code",
      "source": [
        "zeros_tensor = torch.zeros(3 , 3)\n",
        "ones_tensor = torch.ones(3,3)\n",
        "\n",
        "print(zeros_tensor)\n",
        "print(ones_tensor)"
      ],
      "metadata": {
        "colab": {
          "base_uri": "https://localhost:8080/"
        },
        "id": "AbMb-BdNQmWB",
        "outputId": "6857d9f1-0619-4359-888a-7bf487096d59"
      },
      "execution_count": 5,
      "outputs": [
        {
          "output_type": "stream",
          "name": "stdout",
          "text": [
            "tensor([[0., 0., 0.],\n",
            "        [0., 0., 0.],\n",
            "        [0., 0., 0.]])\n",
            "tensor([[1., 1., 1.],\n",
            "        [1., 1., 1.],\n",
            "        [1., 1., 1.]])\n"
          ]
        }
      ]
    },
    {
      "cell_type": "code",
      "source": [
        "line_space = torch.linspace(0,1,steps = 5)\n",
        "print(line_space)"
      ],
      "metadata": {
        "colab": {
          "base_uri": "https://localhost:8080/"
        },
        "id": "3qZuNRT7RCZK",
        "outputId": "e15d6c7e-6e47-41c4-afaa-171db1fafc9f"
      },
      "execution_count": 6,
      "outputs": [
        {
          "output_type": "stream",
          "name": "stdout",
          "text": [
            "tensor([0.0000, 0.2500, 0.5000, 0.7500, 1.0000])\n"
          ]
        }
      ]
    },
    {
      "cell_type": "code",
      "source": [
        "a = torch.tensor([1.0, 2.0, 3.0])\n",
        "b = torch.tensor([4.0, 5.0, 6.0])\n",
        "\n",
        "print(a + b)\n",
        "print(a * b)\n",
        "\n",
        "# ماتریس ضرب\n",
        "mat1 = torch.rand(2, 3)\n",
        "mat2 = torch.rand(3, 2)\n",
        "result = torch.matmul(mat1, mat2)  # ضرب ماتریسی\n",
        "print(result)\n",
        "\n",
        "# عملیات‌های پیشرفته\n",
        "mean = a.mean()\n",
        "std = a.std()\n",
        "print(mean)\n",
        "print(std)"
      ],
      "metadata": {
        "colab": {
          "base_uri": "https://localhost:8080/"
        },
        "id": "n5ZyIt-oRX9R",
        "outputId": "2f5df97e-20fa-4f00-e5f4-e022ab523354"
      },
      "execution_count": 7,
      "outputs": [
        {
          "output_type": "stream",
          "name": "stdout",
          "text": [
            "tensor([5., 7., 9.])\n",
            "tensor([ 4., 10., 18.])\n",
            "tensor([[0.8305, 0.4273],\n",
            "        [0.2945, 0.8394]])\n",
            "tensor(2.)\n",
            "tensor(1.)\n"
          ]
        }
      ]
    },
    {
      "cell_type": "markdown",
      "source": [
        "#استفاده از *GPU*"
      ],
      "metadata": {
        "id": "UXDg6OpoSWiO"
      }
    },
    {
      "cell_type": "code",
      "source": [
        "# بررسی دسترسی GPU\n",
        "device = torch.device(\"cuda\" if torch.cuda.is_available() else \"cpu\")\n",
        "print(f\"Using device: {device}\")"
      ],
      "metadata": {
        "colab": {
          "base_uri": "https://localhost:8080/"
        },
        "id": "ayp0DgKeSNRX",
        "outputId": "46905506-43e4-4cd2-ff45-24a006c14f39"
      },
      "execution_count": 8,
      "outputs": [
        {
          "output_type": "stream",
          "name": "stdout",
          "text": [
            "Using device: cpu\n"
          ]
        }
      ]
    },
    {
      "cell_type": "code",
      "source": [
        "# انتقال تنسور به GPU\n",
        "a_tensor = torch.rand(3, 3)\n",
        "tensor_gpu = a_tensor.to(device)\n",
        "print(tensor_gpu)"
      ],
      "metadata": {
        "colab": {
          "base_uri": "https://localhost:8080/"
        },
        "id": "E9M_gPasSm02",
        "outputId": "635f4ff2-50b4-4d6e-b291-f04a77957a6b"
      },
      "execution_count": 9,
      "outputs": [
        {
          "output_type": "stream",
          "name": "stdout",
          "text": [
            "tensor([[0.3493, 0.4288, 0.9376],\n",
            "        [0.2304, 0.3361, 0.8463],\n",
            "        [0.0464, 0.9448, 0.1263]])\n"
          ]
        }
      ]
    },
    {
      "cell_type": "markdown",
      "source": [
        "#  Autograd: محاسبه گرادیان‌ها"
      ],
      "metadata": {
        "id": "QIc5pzjkdPB-"
      }
    },
    {
      "cell_type": "code",
      "source": [
        "# ایجاد یک تنسور با قابلیت گرادیان\n",
        "x = torch.tensor(2.0, requires_grad=True)\n",
        "y = x ** 2 + 3 * x + 4  # تابع\n",
        "y.backward()  # محاسبه گرادیان\n",
        "print(x.grad)  # گرادیان: dy/dx"
      ],
      "metadata": {
        "colab": {
          "base_uri": "https://localhost:8080/"
        },
        "id": "vmarzI6ndN8B",
        "outputId": "53ea0350-f3a3-46b9-ec25-a7c622fdf3c7"
      },
      "execution_count": 10,
      "outputs": [
        {
          "output_type": "stream",
          "name": "stdout",
          "text": [
            "tensor(7.)\n"
          ]
        }
      ]
    },
    {
      "cell_type": "markdown",
      "source": [
        "# ساخت یک مدل ساده شبکه عصبی"
      ],
      "metadata": {
        "id": "aY5tGRbEgpbR"
      }
    },
    {
      "cell_type": "code",
      "source": [
        "#ایجاد یک مدل ساده\n",
        "import torch.nn as nn\n",
        "\n",
        "# تعریف یک شبکه ساده\n",
        "class SimpleNN(nn.Module):\n",
        "    def __init__(self):\n",
        "        super(SimpleNN, self).__init__()\n",
        "        self.fc = nn.Linear(1, 1)  # لایه کاملاً متصل\n",
        "\n",
        "    def forward(self, x):\n",
        "        return self.fc(x)\n",
        "\n",
        "# نمونه‌سازی مدل\n",
        "model = SimpleNN()\n",
        "print(model)"
      ],
      "metadata": {
        "colab": {
          "base_uri": "https://localhost:8080/"
        },
        "id": "lSipsQKUgn1D",
        "outputId": "1a1b6ce2-dc8f-4a65-922b-b26c15156ad8"
      },
      "execution_count": 11,
      "outputs": [
        {
          "output_type": "stream",
          "name": "stdout",
          "text": [
            "SimpleNN(\n",
            "  (fc): Linear(in_features=1, out_features=1, bias=True)\n",
            ")\n"
          ]
        }
      ]
    },
    {
      "cell_type": "code",
      "source": [
        "#تابع هزینه و بهینه‌سازی\n",
        "\n",
        "import torch.optim as optim\n",
        "\n",
        "# تعریف تابع هزینه و بهینه‌ساز\n",
        "criterion = nn.MSELoss()  # Mean Squared Error\n",
        "optimizer = optim.SGD(model.parameters(), lr=0.01)"
      ],
      "metadata": {
        "id": "aUbYDzGzm8bZ"
      },
      "execution_count": 12,
      "outputs": []
    },
    {
      "cell_type": "code",
      "source": [
        "# آموزش مدل\n",
        "\n",
        "# داده‌های آموزشی ساده\n",
        "x_train = torch.tensor([[1.0], [2.0], [3.0]])\n",
        "y_train = torch.tensor([[2.0], [4.0], [6.0]])\n",
        "\n",
        "# حلقه آموزشی\n",
        "for epoch in range(100):\n",
        "    # مرحله پیش‌بینی\n",
        "    y_pred = model(x_train)\n",
        "\n",
        "    # محاسبه هزینه\n",
        "    loss = criterion(y_pred, y_train)\n",
        "\n",
        "    # به‌روزرسانی مدل\n",
        "    optimizer.zero_grad()  # صفر کردن گرادیان‌ها\n",
        "    loss.backward()  # محاسبه گرادیان\n",
        "    optimizer.step()  # به‌روزرسانی وزن‌ها\n",
        "\n",
        "    if epoch % 10 == 0:\n",
        "        print(f\"Epoch {epoch}, Loss: {loss.item()}\")"
      ],
      "metadata": {
        "colab": {
          "base_uri": "https://localhost:8080/"
        },
        "id": "rWD6HHhznity",
        "outputId": "f6991efd-06c1-4fb5-a77e-bb5a79cb0ae0"
      },
      "execution_count": 13,
      "outputs": [
        {
          "output_type": "stream",
          "name": "stdout",
          "text": [
            "Epoch 0, Loss: 26.78191566467285\n",
            "Epoch 10, Loss: 2.8881845474243164\n",
            "Epoch 20, Loss: 0.5971534848213196\n",
            "Epoch 30, Loss: 0.36386361718177795\n",
            "Epoch 40, Loss: 0.32722190022468567\n",
            "Epoch 50, Loss: 0.3099830448627472\n",
            "Epoch 60, Loss: 0.29523777961730957\n",
            "Epoch 70, Loss: 0.28134605288505554\n",
            "Epoch 80, Loss: 0.2681220471858978\n",
            "Epoch 90, Loss: 0.2555212080478668\n"
          ]
        }
      ]
    },
    {
      "cell_type": "markdown",
      "source": [
        "# ذخیره و بارگذاری مدل"
      ],
      "metadata": {
        "id": "jnSRPtKPp5es"
      }
    },
    {
      "cell_type": "code",
      "source": [
        "torch.save(model.state_dict() , \"simple_nn.path\")"
      ],
      "metadata": {
        "id": "LLYblID3p47l"
      },
      "execution_count": 17,
      "outputs": []
    },
    {
      "cell_type": "code",
      "source": [
        "model = SimpleNN()\n",
        "model.load_state_dict(torch.load(\"simple_nn.path\"))\n",
        "model.eval()  # تغییر مدل به حالت ارزیابی"
      ],
      "metadata": {
        "colab": {
          "base_uri": "https://localhost:8080/"
        },
        "id": "ntHIa4nZqT8R",
        "outputId": "44e8d9cb-6053-476c-b6bc-3e39438e2d34"
      },
      "execution_count": 19,
      "outputs": [
        {
          "output_type": "stream",
          "name": "stderr",
          "text": [
            "<ipython-input-19-440c5660f419>:2: FutureWarning: You are using `torch.load` with `weights_only=False` (the current default value), which uses the default pickle module implicitly. It is possible to construct malicious pickle data which will execute arbitrary code during unpickling (See https://github.com/pytorch/pytorch/blob/main/SECURITY.md#untrusted-models for more details). In a future release, the default value for `weights_only` will be flipped to `True`. This limits the functions that could be executed during unpickling. Arbitrary objects will no longer be allowed to be loaded via this mode unless they are explicitly allowlisted by the user via `torch.serialization.add_safe_globals`. We recommend you start setting `weights_only=True` for any use case where you don't have full control of the loaded file. Please open an issue on GitHub for any issues related to this experimental feature.\n",
            "  model.load_state_dict(torch.load(\"simple_nn.path\"))\n"
          ]
        },
        {
          "output_type": "execute_result",
          "data": {
            "text/plain": [
              "SimpleNN(\n",
              "  (fc): Linear(in_features=1, out_features=1, bias=True)\n",
              ")"
            ]
          },
          "metadata": {},
          "execution_count": 19
        }
      ]
    },
    {
      "cell_type": "markdown",
      "source": [
        "# محاسبه مشتق دوم"
      ],
      "metadata": {
        "id": "v9be3_ZExLJ4"
      }
    },
    {
      "cell_type": "code",
      "source": [
        "x = torch.tensor(2.0, requires_grad=True)\n",
        "\n",
        "# تعریف تابع\n",
        "y = x**3  # y = x^3\n",
        "\n",
        "# محاسبه گرادیان اول\n",
        "y.backward(create_graph=True)\n",
        "print(\"First derivative (dy/dx):\", x.grad)\n",
        "\n",
        "# محاسبه گرادیان دوم\n",
        "x.grad.zero_()  # صفر کردن گرادیان‌ها\n",
        "x.grad.backward()  # محاسبه مشتق دوم\n",
        "print(\"Second derivative (d^2y/dx^2):\", x.grad)"
      ],
      "metadata": {
        "colab": {
          "base_uri": "https://localhost:8080/"
        },
        "id": "13sUlj-rxPdH",
        "outputId": "03ae6bdf-9bf5-4f21-9b82-4c1f58305c90"
      },
      "execution_count": 20,
      "outputs": [
        {
          "output_type": "stream",
          "name": "stdout",
          "text": [
            "First derivative (dy/dx): tensor(12., grad_fn=<CopyBackwards>)\n",
            "Second derivative (d^2y/dx^2): tensor(0., grad_fn=<ZeroBackward0>)\n"
          ]
        },
        {
          "output_type": "stream",
          "name": "stderr",
          "text": [
            "/usr/local/lib/python3.10/dist-packages/torch/autograd/graph.py:825: UserWarning: Using backward() with create_graph=True will create a reference cycle between the parameter and its gradient which can cause a memory leak. We recommend using autograd.grad when creating the graph to avoid this. If you have to use this function, make sure to reset the .grad fields of your parameters to None after use to break the cycle and avoid the leak. (Triggered internally at ../torch/csrc/autograd/engine.cpp:1201.)\n",
            "  return Variable._execution_engine.run_backward(  # Calls into the C++ engine to run the backward pass\n"
          ]
        }
      ]
    },
    {
      "cell_type": "markdown",
      "source": [
        "# محاسبه چندمتغیره\n"
      ],
      "metadata": {
        "id": "R1BqEH49xaaf"
      }
    },
    {
      "cell_type": "code",
      "source": [
        "import torch\n",
        "\n",
        "# تعریف متغیرها\n",
        "x = torch.tensor(1.0, requires_grad=True)\n",
        "y = torch.tensor(2.0, requires_grad=True)\n",
        "\n",
        "# تعریف تابع\n",
        "z = x**2 + y**3 + x * y\n",
        "\n",
        "# محاسبه گرادیان‌ها\n",
        "z.backward()\n",
        "\n",
        "# چاپ گرادیان‌ها\n",
        "print(\"dz/dx:\", x.grad)\n",
        "print(\"dz/dy:\", y.grad)"
      ],
      "metadata": {
        "colab": {
          "base_uri": "https://localhost:8080/"
        },
        "id": "Jmz4B-lsxa0P",
        "outputId": "d395e718-9dbc-4370-a213-ef60b15f8209"
      },
      "execution_count": 21,
      "outputs": [
        {
          "output_type": "stream",
          "name": "stdout",
          "text": [
            "dz/dx: tensor(4.)\n",
            "dz/dy: tensor(13.)\n"
          ]
        }
      ]
    },
    {
      "cell_type": "markdown",
      "source": [
        "# مشتق در رگرسیون"
      ],
      "metadata": {
        "id": "IYaMM1oGxm5v"
      }
    },
    {
      "cell_type": "code",
      "source": [
        "# داده‌های آموزشی\n",
        "x_train = torch.tensor([[1.0], [2.0], [3.0]], requires_grad=False)\n",
        "y_train = torch.tensor([[2.0], [4.0], [6.0]], requires_grad=False)\n",
        "\n",
        "# وزن‌ها و بایاس (قابل بهینه‌سازی)\n",
        "w = torch.tensor(1.0, requires_grad=True)\n",
        "b = torch.tensor(0.0, requires_grad=True)\n",
        "\n",
        "# حلقه آموزش\n",
        "learning_rate = 0.01\n",
        "for epoch in range(100):\n",
        "    # پیش‌بینی\n",
        "    y_pred = w * x_train + b\n",
        "\n",
        "    # تابع هزینه (MSE)\n",
        "    loss = ((y_pred - y_train) ** 2).mean()\n",
        "\n",
        "    # محاسبه گرادیان‌ها\n",
        "    loss.backward()\n",
        "\n",
        "    # به‌روزرسانی وزن‌ها\n",
        "    with torch.no_grad():\n",
        "        w -= learning_rate * w.grad\n",
        "        b -= learning_rate * b.grad\n",
        "\n",
        "    # صفر کردن گرادیان‌ها\n",
        "    w.grad.zero_()\n",
        "    b.grad.zero_()\n",
        "\n",
        "    # نمایش خطا در هر چند مرحله\n",
        "    if epoch % 10 == 0:\n",
        "        print(f\"Epoch {epoch}, Loss: {loss.item()}, w: {w.item()}, b: {b.item()}\")"
      ],
      "metadata": {
        "colab": {
          "base_uri": "https://localhost:8080/"
        },
        "id": "YXrvNlrtxnJe",
        "outputId": "f7e6b145-7c5c-4bf9-88df-9efd3eff6ebc"
      },
      "execution_count": 22,
      "outputs": [
        {
          "output_type": "stream",
          "name": "stdout",
          "text": [
            "Epoch 0, Loss: 4.666666507720947, w: 1.09333336353302, b: 0.03999999910593033\n",
            "Epoch 10, Loss: 0.46107372641563416, w: 1.612234354019165, b: 0.25782933831214905\n",
            "Epoch 20, Loss: 0.05983422324061394, w: 1.7749229669570923, b: 0.31920844316482544\n",
            "Epoch 30, Loss: 0.020879948511719704, w: 1.8276315927505493, b: 0.3324495851993561\n",
            "Epoch 40, Loss: 0.01645718701183796, w: 1.846343755722046, b: 0.3309720456600189\n",
            "Epoch 50, Loss: 0.015356030315160751, w: 1.8545070886611938, b: 0.3250848352909088\n",
            "Epoch 60, Loss: 0.01460317987948656, w: 1.8593584299087524, b: 0.31796619296073914\n",
            "Epoch 70, Loss: 0.013913922943174839, w: 1.8631324768066406, b: 0.31059351563453674\n",
            "Epoch 80, Loss: 0.013259717263281345, w: 1.8665199279785156, b: 0.3032655715942383\n",
            "Epoch 90, Loss: 0.01263656560331583, w: 1.8697351217269897, b: 0.2960716187953949\n"
          ]
        }
      ]
    },
    {
      "cell_type": "markdown",
      "source": [
        "# جلوگیری از محاسبات گرادیان"
      ],
      "metadata": {
        "id": "BUqKiYBQymxd"
      }
    },
    {
      "cell_type": "code",
      "source": [
        "x = torch.tensor([1.0, 2.0, 3.0], requires_grad=True)\n",
        "\n",
        "# محاسبه با ردیابی گرادیان\n",
        "y = x ** 2\n",
        "print(\"With grad tracking:\", y)\n",
        "\n",
        "# محاسبه بدون ردیابی گرادیان\n",
        "with torch.no_grad():\n",
        "    y_no_grad = x ** 2\n",
        "    print(\"Without grad tracking:\", y_no_grad)"
      ],
      "metadata": {
        "colab": {
          "base_uri": "https://localhost:8080/"
        },
        "id": "XgMn34HHynQd",
        "outputId": "39e66859-fff5-4c86-eeba-8147c114856c"
      },
      "execution_count": 23,
      "outputs": [
        {
          "output_type": "stream",
          "name": "stdout",
          "text": [
            "With grad tracking: tensor([1., 4., 9.], grad_fn=<PowBackward0>)\n",
            "Without grad tracking: tensor([1., 4., 9.])\n"
          ]
        }
      ]
    },
    {
      "cell_type": "markdown",
      "source": [
        "#  پاک کردن گرادیان‌ها"
      ],
      "metadata": {
        "id": "uBxEdZtiAF1t"
      }
    },
    {
      "cell_type": "code",
      "source": [
        "x = torch.tensor(2.0, requires_grad=True)\n",
        "\n",
        "# اولین محاسبه\n",
        "y = x ** 2\n",
        "y.backward()\n",
        "print(\"Gradient after first backward:\", x.grad)\n",
        "\n",
        "# پاک کردن گرادیان‌ها\n",
        "x.grad.zero_()\n",
        "\n",
        "# محاسبه دوم\n",
        "z = x ** 3\n",
        "z.backward()\n",
        "print(\"Gradient after second backward:\", x.grad)"
      ],
      "metadata": {
        "colab": {
          "base_uri": "https://localhost:8080/"
        },
        "id": "gNkIgXqDAGFt",
        "outputId": "7a0aff3a-7b7a-42c7-93dc-510a135c318d"
      },
      "execution_count": 24,
      "outputs": [
        {
          "output_type": "stream",
          "name": "stdout",
          "text": [
            "Gradient after first backward: tensor(4.)\n",
            "Gradient after second backward: tensor(12.)\n"
          ]
        }
      ]
    },
    {
      "cell_type": "markdown",
      "source": [
        "# محاسبات با تنسورهای چند بعدی"
      ],
      "metadata": {
        "id": "3zaItUijAO8F"
      }
    },
    {
      "cell_type": "code",
      "source": [
        "# تعریف یک تنسور 2 بعدی\n",
        "x = torch.tensor([[1.0, 2.0], [3.0, 4.0]], requires_grad=True)\n",
        "print(x)\n",
        "\n",
        "# تعریف یک تابع روی این تنسور\n",
        "y = x ** 2 + 3 * x\n",
        "\n",
        "# مجموع عناصر y\n",
        "z = y.sum()\n",
        "print(z)\n",
        "\n",
        "# محاسبه گرادیان (dz/dx)\n",
        "z.backward()\n",
        "\n",
        "# گرادیان را چاپ می‌کنیم\n",
        "print(\"Gradient of z with respect to x:\")\n",
        "print(x.grad)"
      ],
      "metadata": {
        "colab": {
          "base_uri": "https://localhost:8080/"
        },
        "id": "YdIDVK9mAPI9",
        "outputId": "a2dcc7ab-c57a-4f0f-c7e0-aec5cb39a835"
      },
      "execution_count": 27,
      "outputs": [
        {
          "output_type": "stream",
          "name": "stdout",
          "text": [
            "tensor([[1., 2.],\n",
            "        [3., 4.]], requires_grad=True)\n",
            "tensor(60., grad_fn=<SumBackward0>)\n",
            "Gradient of z with respect to x:\n",
            "tensor([[ 5.,  7.],\n",
            "        [ 9., 11.]])\n"
          ]
        }
      ]
    }
  ]
}